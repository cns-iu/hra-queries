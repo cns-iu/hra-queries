{
 "cells": [
  {
   "cell_type": "markdown",
   "metadata": {},
   "source": [
    "## A notebook to compare conent and counts between H5AD files in HuBMAP"
   ]
  },
  {
   "cell_type": "markdown",
   "metadata": {},
   "source": [
    "Goal: \n",
    "- Open both with anndata\n",
    "- Run expr.h5ad on Azimuth website\n",
    "- Also run cell_by_gene.h5ad\n",
    "- Then also run cell_x_gene one on azimuth website and see what it returns\n",
    "- Can also use [https://data-products.cmu.hubmapconsortium.org/data_products/](https://data-products.cmu.hubmapconsortium.org/data_products/)\n",
    "\n"
   ]
  },
  {
   "cell_type": "markdown",
   "metadata": {},
   "source": [
    "## Import libraries"
   ]
  },
  {
   "cell_type": "code",
   "execution_count": 3,
   "metadata": {},
   "outputs": [
    {
     "name": "stdout",
     "output_type": "stream",
     "text": [
      "Requirement already satisfied: numpy in c:\\users\\abueckle\\documents\\github\\hra-queries\\.venv\\lib\\site-packages (2.1.2)\n",
      "Requirement already satisfied: pandas in c:\\users\\abueckle\\documents\\github\\hra-queries\\.venv\\lib\\site-packages (2.2.3)\n",
      "Requirement already satisfied: anndata in c:\\users\\abueckle\\documents\\github\\hra-queries\\.venv\\lib\\site-packages (0.11.1)\n",
      "Requirement already satisfied: python-dateutil>=2.8.2 in c:\\users\\abueckle\\documents\\github\\hra-queries\\.venv\\lib\\site-packages (from pandas) (2.9.0.post0)\n",
      "Requirement already satisfied: pytz>=2020.1 in c:\\users\\abueckle\\documents\\github\\hra-queries\\.venv\\lib\\site-packages (from pandas) (2024.2)\n",
      "Requirement already satisfied: tzdata>=2022.7 in c:\\users\\abueckle\\documents\\github\\hra-queries\\.venv\\lib\\site-packages (from pandas) (2024.2)\n",
      "Requirement already satisfied: array-api-compat!=1.5,>1.4 in c:\\users\\abueckle\\documents\\github\\hra-queries\\.venv\\lib\\site-packages (from anndata) (1.9.1)\n",
      "Requirement already satisfied: h5py>=3.6 in c:\\users\\abueckle\\documents\\github\\hra-queries\\.venv\\lib\\site-packages (from anndata) (3.12.1)\n",
      "Requirement already satisfied: natsort in c:\\users\\abueckle\\documents\\github\\hra-queries\\.venv\\lib\\site-packages (from anndata) (8.4.0)\n",
      "Requirement already satisfied: packaging>=20.0 in c:\\users\\abueckle\\documents\\github\\hra-queries\\.venv\\lib\\site-packages (from anndata) (24.1)\n",
      "Requirement already satisfied: scipy>1.8 in c:\\users\\abueckle\\documents\\github\\hra-queries\\.venv\\lib\\site-packages (from anndata) (1.14.1)\n",
      "Requirement already satisfied: six>=1.5 in c:\\users\\abueckle\\documents\\github\\hra-queries\\.venv\\lib\\site-packages (from python-dateutil>=2.8.2->pandas) (1.16.0)\n",
      "Note: you may need to restart the kernel to use updated packages.\n",
      "0.11.1\n"
     ]
    },
    {
     "name": "stderr",
     "output_type": "stream",
     "text": [
      "\n",
      "[notice] A new release of pip is available: 24.2 -> 24.3.1\n",
      "[notice] To update, run: python.exe -m pip install --upgrade pip\n"
     ]
    }
   ],
   "source": [
    "%pip install numpy pandas anndata\n",
    "\n",
    "import numpy as np\n",
    "import pandas as pd\n",
    "import anndata as ad\n",
    "from scipy.sparse import csr_matrix\n",
    "print(ad.__version__)"
   ]
  },
  {
   "cell_type": "markdown",
   "metadata": {},
   "source": [
    "## Load and analyze data"
   ]
  },
  {
   "cell_type": "code",
   "execution_count": 5,
   "metadata": {},
   "outputs": [
    {
     "name": "stdout",
     "output_type": "stream",
     "text": [
      "AnnData object with n_obs × n_vars = 6000 × 60286\n",
      "    var: 'hugo_symbol'\n",
      "    layers: 'spliced', 'spliced_unspliced_sum', 'unspliced'\n",
      "<Compressed Sparse Row sparse matrix of dtype 'float32'\n",
      "\twith 3008476 stored elements and shape (6000, 60286)>\n",
      "  Coords\tValues\n",
      "  (0, 10961)\t1.0\n",
      "  (0, 2760)\t0.33333298563957214\n",
      "  (0, 16639)\t0.25\n",
      "  (0, 7736)\t1.0\n",
      "  (0, 10403)\t0.5\n",
      "  (0, 13022)\t1.0\n",
      "  (0, 37376)\t0.5\n",
      "  (0, 1980)\t2.0\n",
      "  (0, 1184)\t2.0\n",
      "  (0, 26195)\t0.33333298563957214\n",
      "  (0, 17834)\t1.0\n",
      "  (0, 3790)\t1.5\n",
      "  (0, 7202)\t1.0\n",
      "  (0, 6602)\t0.5\n",
      "  (0, 9300)\t2.5\n",
      "  (0, 2989)\t0.5\n",
      "  (0, 15975)\t1.0\n",
      "  (0, 15059)\t0.5\n",
      "  (0, 11814)\t1.0\n",
      "  (0, 6606)\t1.0\n",
      "  (0, 6030)\t1.0\n",
      "  (0, 48371)\t0.33333298563957214\n",
      "  (0, 9869)\t0.5\n",
      "  (0, 3691)\t1.0\n",
      "  (0, 4112)\t1.0\n",
      "  :\t:\n",
      "  (5999, 3905)\t1.0\n",
      "  (5999, 5301)\t1.0\n",
      "  (5999, 15340)\t0.25\n",
      "  (5999, 10902)\t0.33333298563957214\n",
      "  (5999, 17297)\t0.25\n",
      "  (5999, 7094)\t1.0\n",
      "  (5999, 34114)\t0.16666699945926666\n",
      "  (5999, 2272)\t1.0\n",
      "  (5999, 12835)\t0.33333298563957214\n",
      "  (5999, 13437)\t0.5\n",
      "  (5999, 9066)\t1.0\n",
      "  (5999, 1875)\t1.0\n",
      "  (5999, 8959)\t0.6666669845581055\n",
      "  (5999, 8386)\t0.33333298563957214\n",
      "  (5999, 19723)\t1.0\n",
      "  (5999, 27070)\t3.600000127335079e-05\n",
      "  (5999, 38908)\t1.0\n",
      "  (5999, 11242)\t1.0\n",
      "  (5999, 8530)\t1.0\n",
      "  (5999, 13001)\t2.0\n",
      "  (5999, 6872)\t1.0\n",
      "  (5999, 5592)\t0.5\n",
      "  (5999, 16971)\t1.0\n",
      "  (5999, 202)\t1.5\n",
      "  (5999, 12056)\t0.20000000298023224\n",
      "Empty DataFrame\n",
      "Columns: []\n",
      "Index: [AAACCCAAGACTAAGT, AAACCCAAGCATGGGT, AAACCCACAAACTAAG, AAACCCACATCTTCGC, AAACCCAGTAGGCAGT, AAACCCATCGTCACCT, AAACGAAAGCGTGTTT, AAACGAAAGGGTCACA, AAACGAACACAGTCCG, AAACGAACAGCAGTGA, AAACGAACATTGTACG, AAACGAAGTGTTGAGG, AAACGAAGTTAGCTAC, AAACGAAGTTCTGAGT, AAACGAATCCAGTGTA, AAACGAATCGACGTCG, AAACGCTAGACATATG, AAACGCTCAACCACAT, AAACGCTCAAGATTGA, AAACGCTCAGAATGTA, AAACGCTGTACCAATC, AAACGCTGTACCCGCA, AAACGCTGTCGACGCT, AAACGCTGTTAAGACA, AAACGCTGTTACCCTC, AAACGCTTCGCGTAGC, AAACGCTTCTAAACGC, AAAGAACCACCAGTAT, AAAGAACCACTCTCGT, AAAGAACGTAACGGTG, AAAGAACGTGCCCACA, AAAGAACTCCATTGGA, AAAGAACTCTGTTCAT, AAAGGATAGGTACAAT, AAAGGATAGGTCACTT, AAAGGATAGGTTCCAT, AAAGGATCAAACAGGC, AAAGGATCAACTCGAT, AAAGGATCACAATGCT, AAAGGATCAGCGCTTG, AAAGGATCAGCTGTAT, AAAGGATGTAAGGTCG, AAAGGATGTGCCTACG, AAAGGATGTGCTCTTC, AAAGGGCAGCTGGCCT, AAAGGGCAGTATGATG, AAAGGGCAGTCATACC, AAAGGGCCACATGAAA, AAAGGGCCATGGAAGC, AAAGGGCGTCTGTGAT, AAAGGTAAGTCATCGT, AAAGGTACATCATTGG, AAAGGTAGTAATGTGA, AAAGGTAGTATCAAGA, AAAGGTAGTCGATTAC, AAAGGTAGTGGTACAG, AAAGTCCAGATGTAGT, AAAGTCCAGGAAAGAC, AAAGTCCAGGCCGCTT, AAAGTCCCAGAAATTG, AAAGTCCCATCGGCCA, AAAGTCCGTTTGGAGG, AAAGTCCTCACGATCA, AAAGTCCTCAGGTGTT, AAAGTCCTCTTCCCGA, AAAGTGAAGAAGAACG, AAAGTGACACAACCGC, AAAGTGACATACTGAC, AAAGTGAGTCTGTTAG, AAAGTGAGTGAGCCAA, AAAGTGATCTGTAACG, AAATGGAAGAAACACT, AAATGGAAGGCTTTCA, AAATGGACACATGACT, AAATGGAGTACGAGTG, AAATGGAGTATAGGAT, AAATGGAGTCATGCAT, AAATGGATCCACAAGT, AAATGGATCCAGCAAT, AAATGGATCCTCTTTC, AAATGGATCCTGGGAC, AAATGGATCGAATCCA, AACAAAGCAACCCTCT, AACAAAGCAGGAACCA, AACAAAGTCCGAAATC, AACAAAGTCGATGCTA, AACAACCAGACACACG, AACAACCAGACGTCCC, AACAACCAGCCAGTAG, AACAACCCACACCGAC, AACAACCCAGCAGATG, AACAACCGTCACTTAG, AACAACCGTCGCTCGA, AACAACCGTGGTTTAC, AACAACCGTGTAAACA, AACAACCGTTAAGACA, AACAACCTCATCTACT, AACAAGAAGCAGGGAG, AACAAGAAGTATGATG, AACAAGACACACTTAG, ...]\n",
      "\n",
      "[6000 rows x 0 columns]\n",
      "                   hugo_symbol\n",
      "ENSG00000000003.15      TSPAN6\n",
      "ENSG00000000005.6         TNMD\n",
      "ENSG00000000419.13         NaN\n",
      "ENSG00000000457.14       SCYL3\n",
      "ENSG00000000460.17    C1orf112\n",
      "...                        ...\n",
      "ENSG00000288640.1          NaN\n",
      "ENSG00000288642.1          NaN\n",
      "ENSG00000288643.1          NaN\n",
      "ENSG00000288644.1          NaN\n",
      "ENSG00000288645.1          NaN\n",
      "\n",
      "[60286 rows x 1 columns]\n"
     ]
    }
   ],
   "source": [
    "adata = ad.read_h5ad('../anndata-h5ad/data/expr.h5ad')\n",
    "\n",
    "# Accessing AnnData attributes\n",
    "print(adata)\n",
    "print(adata.X)        # The data matrix\n",
    "print(adata.obs)      # Observations (metadata about rows)\n",
    "print(adata.var)      # Variables (metadata about columns)"
   ]
  }
 ],
 "metadata": {
  "kernelspec": {
   "display_name": ".venv",
   "language": "python",
   "name": "python3"
  },
  "language_info": {
   "codemirror_mode": {
    "name": "ipython",
    "version": 3
   },
   "file_extension": ".py",
   "mimetype": "text/x-python",
   "name": "python",
   "nbconvert_exporter": "python",
   "pygments_lexer": "ipython3",
   "version": "3.12.4"
  }
 },
 "nbformat": 4,
 "nbformat_minor": 2
}
